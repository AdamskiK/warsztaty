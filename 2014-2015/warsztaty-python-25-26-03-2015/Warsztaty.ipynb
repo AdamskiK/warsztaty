{
 "cells": [
  {
   "cell_type": "code",
   "execution_count": 32,
   "metadata": {
    "collapsed": false
   },
   "outputs": [],
   "source": [
    "#### Typy zmiennych ####\n",
    "\n",
    "### wszystkie wbudowane f-cje ###\n",
    "### https://docs.python.org/2/library/functions.html\n",
    "\n",
    "### wykonanie calego bloku:\n",
    "### play na gorze lub Shift+Enter\n",
    "\n",
    "## http://www.codeskulptor.org/#user39_a6JVgSOTty_3.py\n",
    "\n",
    "\n",
    "\n",
    "## iterable:\n",
    "## https://docs.python.org/2/glossary.html#term-iterable\n",
    "\n",
    "## generator:\n",
    "## https://docs.python.org/2/glossary.html#term-generator"
   ]
  },
  {
   "cell_type": "code",
   "execution_count": 3,
   "metadata": {
    "collapsed": false
   },
   "outputs": [
    {
     "name": "stdout",
     "output_type": "stream",
     "text": [
      "<type 'int'>\n",
      "<type 'int'>\n",
      "<type 'float'>\n",
      "10\n",
      "inf\n",
      "-inf\n",
      "inf\n",
      "nan\n",
      "10 6.0\n"
     ]
    }
   ],
   "source": [
    "# 1. Liczby: int, long, float, complex\n",
    "\n",
    "# int - liczby całkowite\n",
    "12 + 14\n",
    "12 - 4\n",
    "15 * 4\n",
    "15 / 4 # dzielenie calkowite!\n",
    "15 // 4\n",
    "2 ** 3 # potegowanie\n",
    "5 % 3 # modulo\n",
    "print type(123)\n",
    "print type(-3)\n",
    "\n",
    "\n",
    "# float\n",
    "print type(123.0)\n",
    "12.0 + 14.0\n",
    "12.0 - 4 #konwersja typów\n",
    "15.0 * 4.0\n",
    "15.0 / 4.0 # dzielenie normalne\n",
    "15.0 // 4.0 #dzielenie całkowitoliczbowe\n",
    "2.0 ** 3.5\n",
    "15.0 % 4 #też float!\n",
    "\n",
    "# long - długi int\n",
    "type(122L)\n",
    "# complex - liczby zespolone\n",
    "type(-3.14j) # j zamiast i !!\n",
    "\n",
    "# konwersja typow\n",
    "x = 7\n",
    "y = 6.0\n",
    "z = 8L\n",
    "w = 7+9j\n",
    "a, b = 2, 7 ## mozna wiele zm. przypisac za jednym zamachem\n",
    "int(y)\n",
    "int(z)\n",
    "#int(w) # nie da sie!\n",
    "complex(z, x)\n",
    "\n",
    "# operacje do samych siebie\n",
    "x += 3 # to samo co x = x + 3\n",
    "print x\n",
    "#pododbnie reszta operatorow\n",
    "#-=, *=, /=, %=, **=, //= \n",
    "\n",
    "#nieskonczonosci, NaN\n",
    "a = float('inf')\n",
    "print a\n",
    "b = float('-inf')\n",
    "print b\n",
    "c = float('nan')\n",
    "print a\n",
    "\n",
    "print a + b\n",
    "\n",
    "\n",
    "#f-cje:\n",
    "round(3.141592, 3)\n",
    "abs(-3.3)\n",
    "abs(w)\n",
    "cmp(x, y) #1, jesli x>y, 0 ==, -1 <\n",
    "max(1,7,3,-12)\n",
    "min(45,-111,6.5,3)\n",
    "\n",
    "#sprawdzenie typu\n",
    "isinstance(5, int)\n",
    "isinstance(5, str)\n",
    "\n",
    "## zadanie:\n",
    "## jak w jednej linii zrobic ponizsze:\n",
    "temp = x\n",
    "x = y\n",
    "y = temp\n",
    "\n",
    "#odp:\n",
    "x, y = y, x\n",
    "print x, y"
   ]
  },
  {
   "cell_type": "code",
   "execution_count": 18,
   "metadata": {
    "collapsed": false
   },
   "outputs": [
    {
     "name": "stdout",
     "output_type": "stream",
     "text": [
      " To jest napis\n",
      "wielolinijkowy. Biale znaki \n",
      " sa akceptowane\n",
      "\n",
      "Fello World\n",
      "<type 'str'>\n",
      "Help on built-in function rjust:\n",
      "\n",
      "rjust(...)\n",
      "    S.rjust(width[, fillchar]) -> string\n",
      "    \n",
      "    Return S right-justified in a string of length width. Padding is\n",
      "    done using the specified fill character (default is a space)\n",
      "\n",
      "dzisiaj jest 25. marca 2015 roku\n",
      "dzisiaj jest 25. marca 2015 roku\n",
      "dzisiaj jest {0}. {1} {2} roku\n"
     ]
    },
    {
     "data": {
      "text/plain": [
       "['four', 'weddings', 'and', 'a', 'funeral']"
      ]
     },
     "execution_count": 18,
     "metadata": {},
     "output_type": "execute_result"
    }
   ],
   "source": [
    "# 2. Napisy: str\n",
    "\n",
    "type('Hello World')\n",
    "type(\"Hello World\")\n",
    "s1 = \"Hello World\"\n",
    "s2 = ''' To jest napis\n",
    "wielolinijkowy. Biale znaki \\n sa akceptowane\n",
    "'''\n",
    "print s2\n",
    "s1[0] # numerujemy od zera!!!\n",
    "s1[0:4] # dostajemy od 0 do 3 wlacznie\n",
    "s1[6:] # od 6 do konca\n",
    "s1[-1] # ostatni znak\n",
    "s1[:-3] #od -2 do poczatku\n",
    "s1[2:-3]\n",
    "s2[2:-3]\n",
    "s1 + ' a Kunegunda ma kota' #laczenie napisow\n",
    "s1 * 3 #powielanie\n",
    "len(s1) #dlugosc napisu\n",
    "s1[0:11]\n",
    "#s1[0] = 'F' #error! Napisy sa nie zmienialne!\n",
    "s1 = 'F' + s1[1:]\n",
    "print s1\n",
    "\n",
    "'a' in s1\n",
    "'e' in s1\n",
    "\n",
    "print type(str(6))\n",
    "\n",
    "#Py - obiektowy, wiec oprocz f-cji, mamy tez metody\n",
    "#Sa to f-cje przypisane do konkretnego obiektu\n",
    "#Roznia sie tylko wywolaniem - jesli mamy metode f i obiekt x,\n",
    "#to nie wywolujemy jej f(x), tylko x.f()\n",
    "\n",
    "#Metody zdefiniowane dla napisow:\n",
    "s1.find(\"el\") #zwraca indeks podnapisu w napisie\n",
    "s1.count('l') #ile jest podnapisow w napisie\n",
    "s1.replace(\"el\", \"ABC\") #zastepuje podnapis innym\n",
    "s2.split('\\n')\n",
    "# wiecej:\n",
    "dir(s1)\n",
    "dir('')\n",
    "help(s1.rjust)\n",
    "#s1.rjust? # w okienku na dole strony\n",
    "\n",
    "s3 = 'dzisiaj jest %d. %s %d roku'\n",
    "print s3 % (25, 'marca', 2015)\n",
    "\n",
    "# %c - znak (litera)\n",
    "# %s - napis\n",
    "# %d - liczby calkowite\n",
    "# %f - liczba rzeczywiste\n",
    "\n",
    "#ponoc nowsze jest format, ale nie znam jeszcze :)\n",
    "s3 = 'dzisiaj jest {0}. {1} {2} roku'\n",
    "print s3.format(25, 'marca', 2015)\n",
    "\n",
    "\n",
    "###Zadanie:\n",
    "## wyszukac f-cje w dir, tak, zeby napis \"four weddings and a funeral\"\n",
    "## zmienic na tytul, a nastepnie rozbic na pojedyncze slowa\n",
    "s4 = \"four weddings and a funeral\"\n",
    "s4.title()\n",
    "s4.split(' ') # dostajemy liste - nastepny typ"
   ]
  },
  {
   "cell_type": "code",
   "execution_count": 5,
   "metadata": {
    "collapsed": false
   },
   "outputs": [
    {
     "name": "stdout",
     "output_type": "stream",
     "text": [
      "['bcd', 786, 8.88, 'ala', 22.3] [123, 'ala']\n",
      "['bcd', 773, 8.88, 'ala', 22.3]\n",
      "['bcd', 773, 8.88, 22.3]\n",
      "Ala\n",
      "ma\n",
      "psa\n",
      "kota\n",
      "zabe\n",
      "lista2: ['Ala', 'ma', 'psa', 'mysz', 'zabe']\n",
      "lista: ['Ala', 'ma', 'kota', 'mysz', 'zabe']\n",
      "lista2: ['Ala', 'ma', 'psa', 'mysz', 'zabe']\n",
      "-1\n",
      "Choose red, blue, green or yellow\n"
     ]
    }
   ],
   "source": [
    "# 3. Listy: list\n",
    "\n",
    "lista = ['bcd', 786, 8.88, \"ala\", 22.3]\n",
    "mala_lista = [123, 'ala']\n",
    "lista1, lista2 = [1,2], ['ala', 'kaja']\n",
    "type(lista)\n",
    "print lista, mala_lista\n",
    "lista[0] #numerowanie od 0!!!\n",
    "lista[-2]\n",
    "lista * 2\n",
    "lista + mala_lista # z powtorzeniami\n",
    "\n",
    "mala_lista[1] in lista\n",
    "\n",
    "lista[1] = 773 #update listy\n",
    "print lista\n",
    "\n",
    "del lista[3]\n",
    "print lista\n",
    "\n",
    "lista = [\"Ala\", \"ma\", \"psa\", \"kota\", \"zabe\"]\n",
    "zero, jeden, dwa, trzy, cztery = lista\n",
    "print zero\n",
    "print jeden\n",
    "print dwa\n",
    "print trzy\n",
    "print cztery\n",
    "\n",
    "lista2 = lista\n",
    "lista[3] = 'mysz'\n",
    "print \"lista2:\", lista2 #!!!\n",
    "#jak to obejsc? \n",
    "lista2 = lista[:]\n",
    "lista[2] = 'kota'\n",
    "print \"lista:\", lista \n",
    "print \"lista2:\", lista2 \n",
    "\n",
    "lista[3][2:]\n",
    "\n",
    "len(lista)\n",
    "sum([1, 4, 7, 12])\n",
    "range(5)\n",
    "\n",
    "\n",
    "# Cechy:\n",
    "# 1. Sa zmienialne\n",
    "# 2. Nie mają ustalonej dlugosci\n",
    "# 3. Troche jak wektor w R, ale może miec wiele typow\n",
    "\n",
    "#metody\n",
    "dir(lista)\n",
    "dir([])\n",
    "lista.append('skowronka')\n",
    "lista\n",
    "lista.sort()\n",
    "lista\n",
    "\n",
    "#funkcje:\n",
    "#cmp, len, max, min\n",
    "print cmp(lista1, lista2)\n",
    "#If elements are of the same type, perform the compare and return the result. \n",
    "#If elements are different types, check to see if they are numbers.\n",
    "#\n",
    "#    If numbers, perform numeric coercion if necessary and compare.\n",
    "#    If either element is a number, then the other element is \"larger\" (numbers are \"smallest\").\n",
    "#    Otherwise, types are sorted alphabetically by name.\n",
    "#If we reached the end of one of the lists, the longer list is \"larger.\" \n",
    "#If we exhaust both lists and share the same data, the result is a tie, meaning that 0 is returned.\n",
    "\n",
    "#zagniezdzanie\n",
    "M = [[1,2,3], [4,5,6], [7,8,9]]\n",
    "M\n",
    "M[2]\n",
    "####Zadanie:\n",
    "#jak dostac teraz 6?\n",
    "M[1][2]\n",
    "\n",
    "    \n",
    "colors = ['red', 'blue', 'green', 'yellow']\n",
    "print 'Choose', ', '.join(colors[:-1]), \\\n",
    "      'or', colors[-1]"
   ]
  },
  {
   "cell_type": "code",
   "execution_count": 6,
   "metadata": {
    "collapsed": false
   },
   "outputs": [
    {
     "data": {
      "text/plain": [
       "['ala', 345, 'john', 8.6]"
      ]
     },
     "execution_count": 6,
     "metadata": {},
     "output_type": "execute_result"
    }
   ],
   "source": [
    "# 4. Krotki: tuple\n",
    "\n",
    "krotka = (\"ala\", 345, 'john', 8.6) #nawiasy okragle!!\n",
    "#rozni sie od listy tylko tym, ze nie da sie jej zmienic\n",
    "#Po co? Zazwyczaj nie używane. Czasem nie chcemy zmieniac obiektu,\n",
    "#ktory podajemu w argumencie i wtedy zamiast listy warto podac krotke\n",
    "len(krotka)\n",
    "krotka + (5, 7)\n",
    "#krotka[0] = 2 #error! \n",
    "#niezmienialne!\n",
    "lista = list(krotka)\n",
    "lista"
   ]
  },
  {
   "cell_type": "code",
   "execution_count": 7,
   "metadata": {
    "collapsed": false
   },
   "outputs": [
    {
     "data": {
      "text/plain": [
       "{7: 33,\n",
       " 'czlowiek': {'imie': 'J', 'nazwisko': 'K'},\n",
       " 'nr buta': 42,\n",
       " 'wykszt': ['inz', 'mgr', 'dr']}"
      ]
     },
     "execution_count": 7,
     "metadata": {},
     "output_type": "execute_result"
    }
   ],
   "source": [
    "# 5. Słowniki: dictionary\n",
    "\n",
    "#obiekt zwany z angielskiego mapa\n",
    "#1. przechowywane wzgledem KLUCZA, a nie POZYCJI\n",
    "#2. zmienialny\n",
    "#3. bez ustalonej wielkosci (dlugosci)\n",
    "\n",
    "mapa = {'imie': 'Natalia', 'nazwisko': 'Potocka', 'wiek': 23, 'wzrost': 166}\n",
    "mapa\n",
    "mapa['nazwisko']\n",
    "mapa['wiek'] += 1\n",
    "mapa\n",
    "mapa['uczelnia'] = 'PW' #dodajemy rekord!\n",
    "mapa\n",
    "dir(mapa)\n",
    "dir({})\n",
    "mapa.viewkeys()\n",
    "mapa.viewvalues()\n",
    "\n",
    "#zagniezdzanie\n",
    "slownik = {'czlowiek': {'imie': 'J', 'nazwisko': 'K'},\n",
    "           'wykszt': ['inz', 'mgr'],\n",
    "           'nr buta': 42,\n",
    "           7: 33}\n",
    "slownik\n",
    "####zadanie: \n",
    "#jak dodac do wyksztalcenia doktorat?\n",
    "#chcemy miec liste:\n",
    "#\n",
    "# {7: 33,\n",
    "# 'czlowiek': {'imie': 'J', 'nazwisko': 'K'},\n",
    "# 'nr buta': 42,\n",
    "# 'wykszt': ['inz', 'mgr', 'dr']}\n",
    "slownik['wykszt'].append('dr')\n",
    "slownik"
   ]
  },
  {
   "cell_type": "code",
   "execution_count": 8,
   "metadata": {
    "collapsed": false
   },
   "outputs": [
    {
     "name": "stdout",
     "output_type": "stream",
     "text": [
      "Warsztaty z Pythona odbywaja sie dzisiaj jak i jutro ale pojutrze juz nie :(\n"
     ]
    }
   ],
   "source": [
    "#6. Pliki: file\n",
    "\n",
    "f = open('data.txt', 'w')\n",
    "f.write(\"Warsztaty\")\n",
    "f.write(\" z \")\n",
    "f.write(\"Pythona\")\n",
    "string = ''' odbywaja sie dzisiaj \\njak i jutro\n",
    " ale pojutrze juz nie :(\n",
    "'''.split('\\n')\n",
    "f.writelines(string)\n",
    "f.close() #!!!\n",
    "dir(f)\n",
    "#pwd()\n",
    "#writelines expects a list of strings, while write expects a single string. \n",
    "#readlines zwraca listę, read - napis\n",
    "\n",
    "#domyslnie jest 'r' == read\n",
    "f = open('data.txt')\n",
    "napis = f.read()\n",
    "napis\n",
    "napis.split(' ')\n",
    "f.close()\n",
    "\n",
    "#zalecane\n",
    "#automatycznie zamyka plik po wykonaniu komend, \n",
    "#niewazne czy to, co w srodku sie wykona czy nie\n",
    "with open('data.txt', 'r') as f:\n",
    "    print f.readline()"
   ]
  },
  {
   "cell_type": "code",
   "execution_count": 9,
   "metadata": {
    "collapsed": false
   },
   "outputs": [],
   "source": [
    "#### Kontrola przeplywu ####"
   ]
  },
  {
   "cell_type": "code",
   "execution_count": 10,
   "metadata": {
    "collapsed": false
   },
   "outputs": [
    {
     "name": "stdout",
     "output_type": "stream",
     "text": [
      "x jest wieksze od 3\n",
      "Slownik jest pusty :(\n",
      "Slownik nie jest pusty!\n"
     ]
    }
   ],
   "source": [
    "#7. Wyrazenie warunkowe: if\n",
    "\n",
    "# operatory porównawcze: ==, !=, <, <=, >, >=\n",
    "# oparatory logiczne: and, or, not / in, not in\n",
    "\n",
    "x = 5\n",
    "\n",
    "if x > 7:\n",
    "    print \"x jest wieksze od 7\"\n",
    "elif x > 5:\n",
    "    print \"x jest wieksze od 5\"\n",
    "elif x > 3:\n",
    "    print \"x jest wieksze od 3\"\n",
    "else:\n",
    "    print \"x jest mniejsze lub rowne 3\"\n",
    "    \n",
    "#if + switch naraz\n",
    "\n",
    "\n",
    "# Falsz: False, \"\", 0, 0.0, [], (), {}\n",
    "# Prawda: True, kazdy niepusty napis, kazda liczba inna niz 0, \n",
    "# wsz. niepuste listy, krotki i slowniki\n",
    "\n",
    "dict = {}\n",
    "if dict:\n",
    "    print \"Slownik nie jest pusty!\"\n",
    "else:\n",
    "    print \"Slownik jest pusty :(\"\n",
    "#tzn. {} oznacza False\n",
    "#podobnie dla {}, [], '', 0, 0.0, False, None\n",
    "\n",
    "dict = {9: 3}\n",
    "if dict:\n",
    "    print \"Slownik nie jest pusty!\"\n",
    "else:\n",
    "    print \"Slownik jest pusty :(\""
   ]
  },
  {
   "cell_type": "code",
   "execution_count": 14,
   "metadata": {
    "collapsed": false
   },
   "outputs": [
    {
     "name": "stdout",
     "output_type": "stream",
     "text": [
      "1\n",
      "2\n",
      "3\n",
      "4\n",
      "x jest rowne 5\n",
      "spam\n",
      "pam\n",
      "am\n",
      "m\n",
      "1\n",
      "2\n",
      "3\n",
      "4\n",
      "5\n",
      "6\n",
      "7\n",
      "8\n",
      "9\n",
      "NAPISY\n",
      "F\n",
      "e\n",
      "l\n",
      "l\n",
      "o\n",
      " \n",
      "W\n",
      "o\n",
      "r\n",
      "l\n",
      "d\n",
      "LISTY\n",
      "7\n",
      "12\n",
      "32\n",
      "17\n",
      "21\n",
      "90\n",
      "KROTKI\n",
      "ala\n",
      "345\n",
      "john\n",
      "8.6\n",
      "SLOWNIKI\n",
      "czlowiek\n",
      "nr buta\n",
      "wykszt\n",
      "7\n",
      "H\n",
      "e\n",
      "l\n",
      "l\n",
      "o\n",
      " \n",
      "[(0, 'czlowiek'), (1, 'nr buta'), (2, 'wykszt'), (3, 7)]\n",
      "[1, 2, 5]\n",
      "[0, 1, 4, 9, 16, 25, 36, 49, 64, 81]\n",
      "[1, 9, 25, 49, 81]\n",
      "Warsztaty z Pythona odbywaja sie dzisiaj jak i jutro ale pojutrze juz nie :( koniec linii\n"
     ]
    }
   ],
   "source": [
    "#8. Petle: while, for\n",
    "\n",
    "\n",
    "x = 1\n",
    "while x < 5:\n",
    "    print x\n",
    "    x += 1\n",
    "else:\n",
    "    print \"x jest rowne\", x\n",
    "    \n",
    "x = 'spam'\n",
    "while x:\n",
    "    print x\n",
    "    x = x[1:]\n",
    "    \n",
    "for i in range(1,10): #numeruje tylko do 9!\n",
    "    print i\n",
    "    \n",
    "    \n",
    "#Iterable: niektore typy zmiennych w Py sa iterowalne, ang. sa tzw. iterables\n",
    "#takimi typami są: napisy, listy, krotki, slowniki i pliki\n",
    "#sa to obiekty, ktore moga zwracac jeden element na raz \n",
    "#i mozna uzywac ich w petli \n",
    "\n",
    "\n",
    "print \"NAPISY\"\n",
    "for s in s1:\n",
    "    print s\n",
    "    \n",
    "print \"LISTY\"\n",
    "for l in lista:\n",
    "    print l\n",
    "    \n",
    "print \"KROTKI\"\n",
    "for k in krotka:\n",
    "    print k\n",
    "    \n",
    "print \"SLOWNIKI\"\n",
    "for s in slownik:\n",
    "    print s\n",
    "\n",
    "    \n",
    "#pass, continue, break\n",
    "for s in s1:\n",
    "    if s == 'l':\n",
    "        pass\n",
    "    elif s == 'F':\n",
    "        print 'H'\n",
    "        continue\n",
    "    elif s == 'W':\n",
    "        break\n",
    "    print s\n",
    "    \n",
    "\n",
    "#enumerate\n",
    "print list(enumerate(slownik))\n",
    "\n",
    "lista = [7, 12, 32, 17, 21, 90]\n",
    "#list comprehension\n",
    "a = [i for i, val in enumerate(lista) if not (val%2)]\n",
    "# == which(lista%2 == 0) (in R)\n",
    "print a\n",
    "\n",
    "tt = [n ** 2 for n in range(10)]\n",
    "print tt\n",
    "\n",
    "#x for x in range(1, 10) if x % 2 else x * 100\n",
    "#podobnie mozna przechodzic po listach i slownikach\n",
    "#zadanie: jak zrobic to samo co powyzej, tj. potegi liczb 0-9\n",
    "#ale tylko dla podstaw nieparzystych?\n",
    "print [n ** 2 for n in range(10) if n % 2]\n",
    "\n",
    "\n",
    "#czytanie duzych plikow - w ten sposob wczytujemy linia po linii\n",
    "with open('data.txt', 'r') as f:\n",
    "    for line in f:\n",
    "        print line + ' koniec linii'"
   ]
  },
  {
   "cell_type": "code",
   "execution_count": null,
   "metadata": {
    "collapsed": false
   },
   "outputs": [],
   "source": [
    "#### Funkcje ####"
   ]
  },
  {
   "cell_type": "code",
   "execution_count": 80,
   "metadata": {
    "collapsed": false
   },
   "outputs": [
    {
     "name": "stdout",
     "output_type": "stream",
     "text": [
      "ala ma kota\n",
      "ala\n",
      "None\n",
      "12\n"
     ]
    }
   ],
   "source": [
    "# 9. Funkcje\n",
    "\n",
    "def funkcja(x):\n",
    "    print x # ta f-cja nic nie zwraca!\n",
    "    \n",
    "funkcja('ala ma kota')\n",
    "y = funkcja('ala')\n",
    "print y # ta f-cja nic nie zwraca!\n",
    "\n",
    "def f2(a, b, c=1):\n",
    "    return a ** b + c\n",
    "\n",
    "f2(2, 3)\n",
    "f2(2, 3, 7)\n",
    "y = f2(2,3,4)\n",
    "print y"
   ]
  },
  {
   "cell_type": "code",
   "execution_count": null,
   "metadata": {
    "collapsed": false
   },
   "outputs": [],
   "source": [
    "#### Biblioteki ####"
   ]
  },
  {
   "cell_type": "code",
   "execution_count": 105,
   "metadata": {
    "collapsed": false
   },
   "outputs": [
    {
     "name": "stdout",
     "output_type": "stream",
     "text": [
      "7\n",
      "7.0\n",
      "Help on built-in function gamma in module math:\n",
      "\n",
      "gamma(...)\n",
      "    gamma(x)\n",
      "    \n",
      "    Gamma function at x.\n",
      "\n"
     ]
    },
    {
     "data": {
      "text/plain": [
       "-1.0"
      ]
     },
     "execution_count": 105,
     "metadata": {},
     "output_type": "execute_result"
    }
   ],
   "source": [
    "# 10. Biblioteki: module\n",
    "\n",
    "from math import gamma #mozna jedna f-cje sciagnac\n",
    "from math import * #mozna wszystko sciagnac i nie trzeba pisac nazwy modulu\n",
    "import math #wszystko, ale trzeba pisac nazwe modulu\n",
    "\n",
    "# funkcje: abs, ceil, cmp, exp, fabs, pi, e, sin, cos, pow, ...\n",
    "# https://docs.python.org/2/library/math.html\n",
    "dir(math)\n",
    "#help(math)\n",
    "print abs(-7)\n",
    "print math.fabs(-7)\n",
    "help(math.gamma)\n",
    "#gamma(7) #nie dziala!\n",
    "math.gamma(7)\n",
    "math.cos(math.pi)"
   ]
  },
  {
   "cell_type": "code",
   "execution_count": 151,
   "metadata": {
    "collapsed": false
   },
   "outputs": [
    {
     "name": "stdout",
     "output_type": "stream",
     "text": [
      "[0, 4, 2, 3, 1]\n",
      "[2, 3, 1, 4, 0]\n"
     ]
    }
   ],
   "source": [
    "import random\n",
    "#import random as rdm #mozna sobie nazwe skrocic\n",
    "\n",
    "dir(random)\n",
    "\n",
    "random.random() #losowa liczba z prz. [0,1)\n",
    "random.uniform(3,8) #jednostajny [a,b], gdy a<=b\n",
    "random.betavariate(1, 3) #rozklad beta\n",
    "random.gauss(0, 1)\n",
    "\n",
    "random.randrange(1, 10, 2) #miedzy 1 a 10, co 2\n",
    "\n",
    "random.sample([1,2,7,8,13,3,9], 3) #wybieramy losowe 3\n",
    "\n",
    "random.seed()\n",
    "liczby = range(5)\n",
    "random.shuffle(liczby) #zmienia wejsciowa liste\n",
    "print liczby\n",
    "\n",
    "random.seed(123)\n",
    "liczby = range(5)\n",
    "random.shuffle(liczby)\n",
    "print liczby"
   ]
  },
  {
   "cell_type": "code",
   "execution_count": 113,
   "metadata": {
    "collapsed": false
   },
   "outputs": [
    {
     "data": {
      "text/plain": [
       "'http!!www!!rexamine!!com!!blog!!'"
      ]
     },
     "execution_count": 113,
     "metadata": {},
     "output_type": "execute_result"
    }
   ],
   "source": [
    "import re\n",
    "\n",
    "dir(re)\n",
    "\n",
    "re.split(':|/|\\.', 'http://www.rexamine.com/blog/')\n",
    "re.sub('\\W+', '!!', 'http://www.rexamine.com/blog/')\n",
    "\n",
    "#wiecej na https://docs.python.org/2/library/re.html"
   ]
  },
  {
   "cell_type": "code",
   "execution_count": 155,
   "metadata": {
    "collapsed": false
   },
   "outputs": [
    {
     "data": {
      "text/plain": [
       "10"
      ]
     },
     "execution_count": 155,
     "metadata": {},
     "output_type": "execute_result"
    }
   ],
   "source": [
    "import funkcje #import z innych zrodel\n",
    "\n",
    "funkcje.moja_funkcja(3)"
   ]
  },
  {
   "cell_type": "code",
   "execution_count": null,
   "metadata": {
    "collapsed": false
   },
   "outputs": [],
   "source": [
    "#### Nastepnym razem:\n",
    "# Analiza danych - NumPy, SciPy, matplotlib, scikit-learn, nltk"
   ]
  }
 ],
 "metadata": {
  "kernelspec": {
   "display_name": "Python 3",
   "language": "python",
   "name": "python3"
  },
  "language_info": {
   "codemirror_mode": {
    "name": "ipython",
    "version": 3
   },
   "file_extension": ".py",
   "mimetype": "text/x-python",
   "name": "python",
   "nbconvert_exporter": "python",
   "pygments_lexer": "ipython3",
   "version": "3.4.3"
  }
 },
 "nbformat": 4,
 "nbformat_minor": 0
}
